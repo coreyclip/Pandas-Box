{
 "cells": [
  {
   "cell_type": "markdown",
   "metadata": {},
   "source": [
    "## Homework: Academy of Py\n",
    "Well done! Having spent years analyzing financial records for big banks, you've finally scratched your idealistic itch and joined the education sector. In your latest role, you've become the Chief Data Scientist for your city's school district. In this capacity, you'll be helping the school board and mayor make strategic decisions regarding future school budgets and priorities.\n",
    "As a first task, you've been asked to analyze the district-wide standardized test results. You'll be given access to every student's math and reading scores, as well as various information on the schools they attend. Your responsibility is to aggregate the data to and showcase obvious trends in school performance.\n",
    "Your final report should include each of the following:\n",
    "\n",
    "\n",
    "District Summary\n",
    "\n",
    "\t* Create a high level snapshot (in table form) of the district's key metrics, including:\n",
    "\n",
    "\t\t* Total Schools\n",
    "\t\t* Total Students\n",
    "\t\t* Total Budget\n",
    "\t\t* Average Math Score\n",
    "\t\t* Average Reading Score\n",
    "\t\t* % Passing Math\n",
    "\t\t* % Passing Reading\n",
    "\t\t* Overall Passing Rate (Average of the above two)\n",
    "\n",
    "School Summary\n",
    "\n",
    "\t* Create an overview table that summarizes key metrics about each school, including:\n",
    "\n",
    "\t\t* School Name\n",
    "\t\t* School Type\n",
    "\t\t* Total Students\n",
    "\t\t* Total School Budget\n",
    "\t\t* Per Student Budget\n",
    "\t\t* Average Math Score\n",
    "\t\t* Average Reading Score\n",
    "\t\t* % Passing Math\n",
    "\t\t* % Passing Reading\n",
    "\t\t* Overall Passing Rate (Average of the above two)\n",
    "\n",
    "Top Performing Schools (By Passing Rate)\n",
    "\n",
    "\t* Create a table that highlights the top 5 performing schools based on Overall Passing Rate. Include:\n",
    "\n",
    "\t\t* School Name\n",
    "\t\t* School Type\n",
    "\t\t* Total Students\n",
    "\t\t* Total School Budget\n",
    "\t\t* Per Student Budget\n",
    "\t\t* Average Math Score\n",
    "\t\t* Average Reading Score\n",
    "\t\t* % Passing Math\n",
    "\t\t* % Passing Reading\n",
    "\t\t* Overall Passing Rate (Average of the above two)\n",
    "\n",
    "Top Performing Schools (By Passing Rate)\n",
    "\n",
    "\t* Create a table that highlights the bottom 5 performing schools based on Overall Passing Rate. Include all of the same metrics as above.\n",
    "\n",
    "Math Scores by Grade\n",
    "\n",
    "\t* Create a table that lists the average Math Score for students of each grade level (9th, 10th, 11th, 12th) at each school.\n",
    "\n",
    "Reading Scores by Grade\n",
    "\n",
    "\t* Create a table that lists the average Reading Score for students of each grade level (9th, 10th, 11th, 12th) at each school.\n",
    "\n",
    "Scores by School Spending\n",
    "\n",
    "\t* Create a table that breaks down school performances based on average Spending Ranges (Per Student). Use 4 reasonable bins to group school spending. Include in the table each of the following:\n",
    "\n",
    "\t\t* Average Math Score\n",
    "\t\t* Average Reading Score\n",
    "\t\t* % Passing Math\n",
    "\t\t* % Passing Reading\n",
    "\t\t* Overall Passing Rate (Average of the above two)\n",
    "\n",
    "Scores by School Size\n",
    "\n",
    "\t* Repeat the above breakdown, but this time group schools based on a reasonable approximation of school size (Small, Medium, Large).\n",
    "\n",
    "Scores by School Type\n",
    "\n",
    "\t* Repeat the above breakdown, but this time group schools based on school type (Charter vs. District).\n",
    "\n",
    "As final considerations:\n",
    "\n",
    "\t* Your script must work for both data-sets given.\n",
    "\t* You must use the Pandas Library and a Jupyter Notebook.\n",
    "\t* You must submit a link to your Jupyter Notebook with the viewable Data Frames.\n",
    "\t* You must include an exported markdown version of your Notebook called README.md in your GitHub repository.\n",
    "\t* You must include a written description of three observable trends based on the data.\n",
    "\n"
   ]
  },
  {
   "cell_type": "code",
   "execution_count": 1,
   "metadata": {},
   "outputs": [],
   "source": [
    "# import libraries\n",
    "import pandas as pd\n",
    "import numpy as np"
   ]
  },
  {
   "cell_type": "code",
   "execution_count": 2,
   "metadata": {},
   "outputs": [],
   "source": [
    "# read in data\n",
    "schools = pd.read_csv(\"schools_complete.csv\")\n",
    "students = pd.read_csv(\"students_complete.csv\")"
   ]
  },
  {
   "cell_type": "markdown",
   "metadata": {},
   "source": [
    "### Create a high level snapshot (in table form) of the district's key metrics, including:\n",
    "\n",
    "* Total Schools\n",
    "* Total Students\n",
    "* Total Budget\n",
    "* Average Math Score\n",
    "* Average Reading Score\n",
    "* % Passing Math\n",
    "* % Passing Reading\n",
    "* Overall Passing Rate (Average of the above two)"
   ]
  },
  {
   "cell_type": "code",
   "execution_count": 3,
   "metadata": {},
   "outputs": [],
   "source": [
    "total_schools = len(schools['name'].unique()) # length of a list holding the unique values of school names\n",
    "total_students = students.shape[0] #shape gives us a tuple (# of rows, # of columns)\n",
    "total_budget = schools['budget'].sum() # sum up every value in the budget column\n",
    "avg_math = students['math_score'].mean()\n",
    "avg_read = students['reading_score'].mean()\n",
    "\n",
    "total_pass_math = students.loc[students['math_score'] >= 70]['math_score'].count()\n",
    "\n",
    "percent_passing_math = total_pass_math / total_students\n",
    "\n",
    "total_pass_math = students.loc[students['reading_score'] >= 70]['reading_score'].count()\n",
    "\n",
    "percent_passing_reading = total_pass_math / total_students\n",
    "\n",
    "overall_passing_rate = (percent_passing_reading + percent_passing_math) / 2"
   ]
  },
  {
   "cell_type": "code",
   "execution_count": 7,
   "metadata": {},
   "outputs": [
    {
     "data": {
      "text/html": [
       "<div>\n",
       "<style>\n",
       "    .dataframe thead tr:only-child th {\n",
       "        text-align: right;\n",
       "    }\n",
       "\n",
       "    .dataframe thead th {\n",
       "        text-align: left;\n",
       "    }\n",
       "\n",
       "    .dataframe tbody tr th {\n",
       "        vertical-align: top;\n",
       "    }\n",
       "</style>\n",
       "<table border=\"1\" class=\"dataframe\">\n",
       "  <thead>\n",
       "    <tr style=\"text-align: right;\">\n",
       "      <th></th>\n",
       "      <th>% Passing Math</th>\n",
       "      <th>% Passing Reading</th>\n",
       "      <th>Average Math Scores</th>\n",
       "      <th>Average Reading Score</th>\n",
       "      <th>Overall Passing Rate</th>\n",
       "      <th>Total District Budget</th>\n",
       "      <th>Total District Schools</th>\n",
       "      <th>Total District Students</th>\n",
       "    </tr>\n",
       "  </thead>\n",
       "  <tbody>\n",
       "    <tr>\n",
       "      <th>0</th>\n",
       "      <td>0.749809</td>\n",
       "      <td>0.749809</td>\n",
       "      <td>78.985371</td>\n",
       "      <td>81.87784</td>\n",
       "      <td>0.803932</td>\n",
       "      <td>24649428</td>\n",
       "      <td>15</td>\n",
       "      <td>39170</td>\n",
       "    </tr>\n",
       "  </tbody>\n",
       "</table>\n",
       "</div>"
      ],
      "text/plain": [
       "   % Passing Math  % Passing Reading  Average Math Scores  \\\n",
       "0        0.749809           0.749809            78.985371   \n",
       "\n",
       "   Average Reading Score  Overall Passing Rate  Total District Budget  \\\n",
       "0               81.87784              0.803932               24649428   \n",
       "\n",
       "   Total District Schools  Total District Students  \n",
       "0                      15                    39170  "
      ]
     },
     "execution_count": 7,
     "metadata": {},
     "output_type": "execute_result"
    }
   ],
   "source": [
    "pd.DataFrame({\"Total District Schools\":[total_schools],\n",
    "              \"Total District Students\":[total_students],\n",
    "              \"Total District Budget\":[total_budget],\n",
    "              \"Average Math Scores\":[avg_math],\n",
    "              \"Average Reading Score\":[avg_read],\n",
    "              \"% Passing Math\": [percent_passing_math],\n",
    "              \"% Passing Reading\": [percent_passing_math],\n",
    "              \"Overall Passing Rate\":[overall_passing_rate]\n",
    "             })"
   ]
  },
  {
   "cell_type": "code",
   "execution_count": 5,
   "metadata": {},
   "outputs": [
    {
     "data": {
      "text/plain": [
       "0.7239213683941792"
      ]
     },
     "execution_count": 5,
     "metadata": {},
     "output_type": "execute_result"
    }
   ],
   "source": [
    "students.loc[students['math_score'] > 70]['math_score'].count() / total_students"
   ]
  },
  {
   "cell_type": "code",
   "execution_count": null,
   "metadata": {},
   "outputs": [],
   "source": []
  }
 ],
 "metadata": {
  "kernelspec": {
   "display_name": "Python [default]",
   "language": "python",
   "name": "python3"
  },
  "language_info": {
   "codemirror_mode": {
    "name": "ipython",
    "version": 3
   },
   "file_extension": ".py",
   "mimetype": "text/x-python",
   "name": "python",
   "nbconvert_exporter": "python",
   "pygments_lexer": "ipython3",
   "version": "3.6.3"
  }
 },
 "nbformat": 4,
 "nbformat_minor": 2
}
